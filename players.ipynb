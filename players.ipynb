{
 "cells": [
  {
   "cell_type": "markdown",
   "metadata": {},
   "source": [
    "# Importando dados e biblioteca"
   ]
  },
  {
   "cell_type": "markdown",
   "metadata": {},
   "source": [
    "## Pandas"
   ]
  },
  {
   "cell_type": "code",
   "execution_count": 84,
   "metadata": {},
   "outputs": [],
   "source": [
    "import pandas as pd"
   ]
  },
  {
   "cell_type": "markdown",
   "metadata": {},
   "source": [
    "## Openpyxl"
   ]
  },
  {
   "cell_type": "code",
   "execution_count": 85,
   "metadata": {},
   "outputs": [],
   "source": [
    "import openpyxl"
   ]
  },
  {
   "cell_type": "markdown",
   "metadata": {},
   "source": [
    "## Importando Base de Dados"
   ]
  },
  {
   "cell_type": "markdown",
   "metadata": {},
   "source": [
    "### Base de Dados com Estatísticas"
   ]
  },
  {
   "cell_type": "code",
   "execution_count": 86,
   "metadata": {},
   "outputs": [
    {
     "name": "stderr",
     "output_type": "stream",
     "text": [
      "C:\\Users\\lucas\\AppData\\Local\\Temp\\ipykernel_22064\\4059840557.py:1: DtypeWarning: Columns (1) have mixed types. Specify dtype option on import or set low_memory=False.\n",
      "  players_scout = pd.read_csv('base_de_dados/appearances.csv',sep =',')\n"
     ]
    }
   ],
   "source": [
    "players_scout = pd.read_csv('base_de_dados/appearances.csv',sep =',')"
   ]
  },
  {
   "cell_type": "markdown",
   "metadata": {},
   "source": [
    "### Base de Dados com Informações dos Jogadores"
   ]
  },
  {
   "cell_type": "code",
   "execution_count": 87,
   "metadata": {},
   "outputs": [],
   "source": [
    "players_data = pd.read_csv('base_de_dados/players.csv',sep =',')"
   ]
  },
  {
   "cell_type": "markdown",
   "metadata": {},
   "source": [
    "# Manipulação de dados"
   ]
  },
  {
   "cell_type": "markdown",
   "metadata": {},
   "source": [
    "## Manipulação de Dados Estatísticos dos Jogadores"
   ]
  },
  {
   "cell_type": "markdown",
   "metadata": {},
   "source": [
    "### Verificação de colunas"
   ]
  },
  {
   "cell_type": "code",
   "execution_count": 88,
   "metadata": {},
   "outputs": [
    {
     "name": "stdout",
     "output_type": "stream",
     "text": [
      "<class 'pandas.core.frame.DataFrame'>\n",
      "RangeIndex: 1563304 entries, 0 to 1563303\n",
      "Data columns (total 13 columns):\n",
      " #   Column                  Non-Null Count    Dtype  \n",
      "---  ------                  --------------    -----  \n",
      " 0   appearance_id           1563304 non-null  object \n",
      " 1   game_id                 1563304 non-null  object \n",
      " 2   player_id               1563304 non-null  int64  \n",
      " 3   player_club_id          1563304 non-null  int64  \n",
      " 4   player_current_club_id  1563304 non-null  int64  \n",
      " 5   date                    1563304 non-null  object \n",
      " 6   player_name             1563297 non-null  object \n",
      " 7   competition_id          1563302 non-null  object \n",
      " 8   yellow_cards            1563302 non-null  float64\n",
      " 9   red_cards               1563302 non-null  float64\n",
      " 10  goals                   1563302 non-null  float64\n",
      " 11  assists                 1563302 non-null  float64\n",
      " 12  minutes_played          1563302 non-null  float64\n",
      "dtypes: float64(5), int64(3), object(5)\n",
      "memory usage: 155.1+ MB\n"
     ]
    }
   ],
   "source": [
    "players_scout.info()"
   ]
  },
  {
   "cell_type": "markdown",
   "metadata": {},
   "source": [
    "### Criação de uma nova coluna correspondente ao total de jogos do jogador"
   ]
  },
  {
   "cell_type": "code",
   "execution_count": 89,
   "metadata": {},
   "outputs": [],
   "source": [
    "total_games = players_scout[['player_id']].value_counts()"
   ]
  },
  {
   "cell_type": "markdown",
   "metadata": {},
   "source": [
    "### Junção entre a tabela antiga e a coluna nova"
   ]
  },
  {
   "cell_type": "code",
   "execution_count": 90,
   "metadata": {},
   "outputs": [],
   "source": [
    "players_scout = pd.merge(total_games, players_scout, how = 'inner', on = 'player_id')"
   ]
  },
  {
   "cell_type": "markdown",
   "metadata": {},
   "source": [
    "### Verificação de junção"
   ]
  },
  {
   "cell_type": "code",
   "execution_count": 91,
   "metadata": {},
   "outputs": [
    {
     "name": "stdout",
     "output_type": "stream",
     "text": [
      "<class 'pandas.core.frame.DataFrame'>\n",
      "RangeIndex: 1563304 entries, 0 to 1563303\n",
      "Data columns (total 14 columns):\n",
      " #   Column                  Non-Null Count    Dtype  \n",
      "---  ------                  --------------    -----  \n",
      " 0   player_id               1563304 non-null  int64  \n",
      " 1   count                   1563304 non-null  int64  \n",
      " 2   appearance_id           1563304 non-null  object \n",
      " 3   game_id                 1563304 non-null  object \n",
      " 4   player_club_id          1563304 non-null  int64  \n",
      " 5   player_current_club_id  1563304 non-null  int64  \n",
      " 6   date                    1563304 non-null  object \n",
      " 7   player_name             1563297 non-null  object \n",
      " 8   competition_id          1563302 non-null  object \n",
      " 9   yellow_cards            1563302 non-null  float64\n",
      " 10  red_cards               1563302 non-null  float64\n",
      " 11  goals                   1563302 non-null  float64\n",
      " 12  assists                 1563302 non-null  float64\n",
      " 13  minutes_played          1563302 non-null  float64\n",
      "dtypes: float64(5), int64(4), object(5)\n",
      "memory usage: 167.0+ MB\n"
     ]
    }
   ],
   "source": [
    "players_scout.info()"
   ]
  },
  {
   "cell_type": "markdown",
   "metadata": {},
   "source": [
    "### Mudança de nome da nova coluna"
   ]
  },
  {
   "cell_type": "code",
   "execution_count": 92,
   "metadata": {},
   "outputs": [],
   "source": [
    "players_scout.rename(columns={'count': 'total_games'}, inplace=True)"
   ]
  },
  {
   "cell_type": "markdown",
   "metadata": {},
   "source": [
    "### Separação de tabelas estatísticas e informativas"
   ]
  },
  {
   "cell_type": "code",
   "execution_count": 93,
   "metadata": {},
   "outputs": [],
   "source": [
    "info = players_scout[['player_name','total_games','player_id']]\n",
    "players_scout = players_scout[['player_id','yellow_cards','red_cards','goals','assists','minutes_played']]"
   ]
  },
  {
   "cell_type": "markdown",
   "metadata": {},
   "source": [
    "### Exclusão de linhas duplicadas"
   ]
  },
  {
   "cell_type": "code",
   "execution_count": 94,
   "metadata": {},
   "outputs": [],
   "source": [
    "info = info.drop_duplicates()"
   ]
  },
  {
   "cell_type": "markdown",
   "metadata": {},
   "source": [
    "### Somando as estatísticas de todos os jogos do jogador"
   ]
  },
  {
   "cell_type": "code",
   "execution_count": 95,
   "metadata": {},
   "outputs": [],
   "source": [
    "players_scout = players_scout.groupby('player_id',as_index=False).sum(numeric_only=True)"
   ]
  },
  {
   "cell_type": "markdown",
   "metadata": {},
   "source": [
    "### Juntando as tabelas de estatísticas somadas comas inforamações do jogador"
   ]
  },
  {
   "cell_type": "code",
   "execution_count": 96,
   "metadata": {},
   "outputs": [],
   "source": [
    "players_scout = pd.merge(info, players_scout, how = 'inner', on = 'player_id')"
   ]
  },
  {
   "cell_type": "markdown",
   "metadata": {},
   "source": [
    "### Ordenando por jogadores com mais gols"
   ]
  },
  {
   "cell_type": "code",
   "execution_count": 97,
   "metadata": {},
   "outputs": [],
   "source": [
    "players_scout = players_scout.sort_values('goals', ascending= False)"
   ]
  },
  {
   "cell_type": "markdown",
   "metadata": {},
   "source": [
    "## Manipulação de Dados Informativos dos Jogadores"
   ]
  },
  {
   "cell_type": "markdown",
   "metadata": {},
   "source": [
    "### Verificação de colunas"
   ]
  },
  {
   "cell_type": "code",
   "execution_count": 98,
   "metadata": {},
   "outputs": [
    {
     "name": "stdout",
     "output_type": "stream",
     "text": [
      "<class 'pandas.core.frame.DataFrame'>\n",
      "RangeIndex: 30500 entries, 0 to 30499\n",
      "Data columns (total 23 columns):\n",
      " #   Column                                Non-Null Count  Dtype  \n",
      "---  ------                                --------------  -----  \n",
      " 0   player_id                             30500 non-null  int64  \n",
      " 1   first_name                            28513 non-null  object \n",
      " 2   last_name                             30500 non-null  object \n",
      " 3   name                                  30500 non-null  object \n",
      " 4   last_season                           30500 non-null  int64  \n",
      " 5   current_club_id                       30500 non-null  int64  \n",
      " 6   player_code                           30500 non-null  object \n",
      " 7   country_of_birth                      27783 non-null  object \n",
      " 8   city_of_birth                         28306 non-null  object \n",
      " 9   country_of_citizenship                29921 non-null  object \n",
      " 10  date_of_birth                         30455 non-null  object \n",
      " 11  sub_position                          30326 non-null  object \n",
      " 12  position                              30500 non-null  object \n",
      " 13  foot                                  28136 non-null  object \n",
      " 14  height_in_cm                          28456 non-null  float64\n",
      " 15  contract_expiration_date              19063 non-null  object \n",
      " 16  agent_name                            15135 non-null  object \n",
      " 17  image_url                             30500 non-null  object \n",
      " 18  url                                   30500 non-null  object \n",
      " 19  current_club_domestic_competition_id  30500 non-null  object \n",
      " 20  current_club_name                     30500 non-null  object \n",
      " 21  market_value_in_eur                   29386 non-null  float64\n",
      " 22  highest_market_value_in_eur           29386 non-null  float64\n",
      "dtypes: float64(3), int64(3), object(17)\n",
      "memory usage: 5.4+ MB\n"
     ]
    }
   ],
   "source": [
    "players_data.info()\n"
   ]
  },
  {
   "cell_type": "markdown",
   "metadata": {},
   "source": [
    "### Seleção de colunas que serão utilizadas"
   ]
  },
  {
   "cell_type": "code",
   "execution_count": 99,
   "metadata": {},
   "outputs": [],
   "source": [
    "players_data = players_data[['player_id','sub_position','country_of_birth','city_of_birth','country_of_citizenship','date_of_birth','foot','height_in_cm','first_name','last_name','url','image_url']]"
   ]
  },
  {
   "cell_type": "markdown",
   "metadata": {},
   "source": [
    "### Verificação de colunas "
   ]
  },
  {
   "cell_type": "code",
   "execution_count": 100,
   "metadata": {},
   "outputs": [
    {
     "name": "stdout",
     "output_type": "stream",
     "text": [
      "<class 'pandas.core.frame.DataFrame'>\n",
      "RangeIndex: 30500 entries, 0 to 30499\n",
      "Data columns (total 12 columns):\n",
      " #   Column                  Non-Null Count  Dtype  \n",
      "---  ------                  --------------  -----  \n",
      " 0   player_id               30500 non-null  int64  \n",
      " 1   sub_position            30326 non-null  object \n",
      " 2   country_of_birth        27783 non-null  object \n",
      " 3   city_of_birth           28306 non-null  object \n",
      " 4   country_of_citizenship  29921 non-null  object \n",
      " 5   date_of_birth           30455 non-null  object \n",
      " 6   foot                    28136 non-null  object \n",
      " 7   height_in_cm            28456 non-null  float64\n",
      " 8   first_name              28513 non-null  object \n",
      " 9   last_name               30500 non-null  object \n",
      " 10  url                     30500 non-null  object \n",
      " 11  image_url               30500 non-null  object \n",
      "dtypes: float64(1), int64(1), object(10)\n",
      "memory usage: 2.8+ MB\n"
     ]
    }
   ],
   "source": [
    "players_data.info()"
   ]
  },
  {
   "cell_type": "markdown",
   "metadata": {},
   "source": [
    "# Utilização de Dados Estatísticos e Informativos"
   ]
  },
  {
   "cell_type": "markdown",
   "metadata": {},
   "source": [
    "## Junção dos Dados Estatísticos e Informativos"
   ]
  },
  {
   "cell_type": "code",
   "execution_count": 101,
   "metadata": {},
   "outputs": [],
   "source": [
    "complete_data = pd.merge(players_data, players_scout, how = 'outer', on = 'player_id')"
   ]
  },
  {
   "cell_type": "markdown",
   "metadata": {},
   "source": [
    "## Verificação de colunas"
   ]
  },
  {
   "cell_type": "code",
   "execution_count": 102,
   "metadata": {},
   "outputs": [
    {
     "name": "stdout",
     "output_type": "stream",
     "text": [
      "<class 'pandas.core.frame.DataFrame'>\n",
      "RangeIndex: 30505 entries, 0 to 30504\n",
      "Data columns (total 19 columns):\n",
      " #   Column                  Non-Null Count  Dtype  \n",
      "---  ------                  --------------  -----  \n",
      " 0   player_id               30505 non-null  int64  \n",
      " 1   sub_position            30327 non-null  object \n",
      " 2   country_of_birth        27784 non-null  object \n",
      " 3   city_of_birth           28307 non-null  object \n",
      " 4   country_of_citizenship  29922 non-null  object \n",
      " 5   date_of_birth           30456 non-null  object \n",
      " 6   foot                    28137 non-null  object \n",
      " 7   height_in_cm            28457 non-null  float64\n",
      " 8   first_name              28514 non-null  object \n",
      " 9   last_name               30501 non-null  object \n",
      " 10  url                     30501 non-null  object \n",
      " 11  image_url               30501 non-null  object \n",
      " 12  player_name             24021 non-null  object \n",
      " 13  total_games             24025 non-null  float64\n",
      " 14  yellow_cards            24025 non-null  float64\n",
      " 15  red_cards               24025 non-null  float64\n",
      " 16  goals                   24025 non-null  float64\n",
      " 17  assists                 24025 non-null  float64\n",
      " 18  minutes_played          24025 non-null  float64\n",
      "dtypes: float64(7), int64(1), object(11)\n",
      "memory usage: 4.4+ MB\n"
     ]
    }
   ],
   "source": [
    "complete_data.info()"
   ]
  },
  {
   "cell_type": "markdown",
   "metadata": {},
   "source": [
    "## Reorganização da ordem das colunas"
   ]
  },
  {
   "cell_type": "code",
   "execution_count": 103,
   "metadata": {},
   "outputs": [],
   "source": [
    "complete_data = complete_data[['player_id','player_name','first_name','last_name','date_of_birth','country_of_birth','city_of_birth','country_of_citizenship','sub_position','height_in_cm','foot','yellow_cards','red_cards','goals','assists','total_games','minutes_played']]"
   ]
  },
  {
   "cell_type": "markdown",
   "metadata": {},
   "source": [
    "## Reorganização dos jogadores ordenados por quantidade de gols"
   ]
  },
  {
   "cell_type": "code",
   "execution_count": 104,
   "metadata": {},
   "outputs": [],
   "source": [
    "complete_data = complete_data.sort_values('goals',ascending=False)"
   ]
  },
  {
   "cell_type": "markdown",
   "metadata": {},
   "source": [
    "## Exportação dos dados para um CSV"
   ]
  },
  {
   "cell_type": "code",
   "execution_count": 105,
   "metadata": {},
   "outputs": [
    {
     "name": "stdout",
     "output_type": "stream",
     "text": [
      "       player_id         player_name first_name          last_name  \\\n",
      "3254       38253  Robert Lewandowski     Robert        Lewandowski   \n",
      "2348       28003        Lionel Messi     Lionel              Messi   \n",
      "759         8198   Cristiano Ronaldo        NaN  Cristiano Ronaldo   \n",
      "9421      132098          Harry Kane      Harry               Kane   \n",
      "3773       44352         Luis Suárez       Luis             Suárez   \n",
      "...          ...                 ...        ...                ...   \n",
      "30499    1225269                 NaN      Erdem              Çalık   \n",
      "30501    1237940                 NaN    Oleksiy          Avramenko   \n",
      "30502    1240762                 NaN    Araphat           Mohammed   \n",
      "30503    1250365                 NaN   Mykhaylo              Rasko   \n",
      "30504    1250366                 NaN      Kiril          Kobernyuk   \n",
      "\n",
      "      date_of_birth country_of_birth               city_of_birth  \\\n",
      "3254     1988-08-21           Poland                    Warszawa   \n",
      "2348     1987-06-24        Argentina                     Rosario   \n",
      "759      1985-02-05         Portugal                     Funchal   \n",
      "9421     1993-07-28          England                      London   \n",
      "3773     1987-01-24          Uruguay                       Salto   \n",
      "...             ...              ...                         ...   \n",
      "30499    2006-06-05          Türkiye                    Istanbul   \n",
      "30501    2004-01-02          Ukraine                        Kyiv   \n",
      "30502    2005-11-06              NaN                         NaN   \n",
      "30503    2004-11-22          Ukraine      Zhydachiv, Lviv Oblast   \n",
      "30504    2005-04-27          Ukraine  Berdychiv, Zhytomyr Oblast   \n",
      "\n",
      "      country_of_citizenship      sub_position  height_in_cm   foot  \\\n",
      "3254                  Poland    Centre-Forward         185.0  right   \n",
      "2348               Argentina      Right Winger         170.0   left   \n",
      "759                 Portugal    Centre-Forward         187.0  right   \n",
      "9421                 England    Centre-Forward         188.0  right   \n",
      "3773                 Uruguay    Centre-Forward         182.0  right   \n",
      "...                      ...               ...           ...    ...   \n",
      "30499                Türkiye  Central Midfield           NaN  right   \n",
      "30501                Ukraine       Centre-Back         190.0   both   \n",
      "30502                  Ghana  Central Midfield           NaN   left   \n",
      "30503                Ukraine  Central Midfield         174.0  right   \n",
      "30504                Ukraine       Centre-Back         178.0  right   \n",
      "\n",
      "       yellow_cards  red_cards  goals  assists  total_games  minutes_played  \n",
      "3254           55.0        1.0  461.0    115.0        558.0         47089.0  \n",
      "2348           49.0        1.0  451.0    224.0        522.0         44380.0  \n",
      "759            64.0        4.0  432.0    114.0        482.0         41150.0  \n",
      "9421           46.0        0.0  306.0     73.0        446.0         36154.0  \n",
      "3773           94.0        0.0  289.0    149.0        445.0         35950.0  \n",
      "...             ...        ...    ...      ...          ...             ...  \n",
      "30499           NaN        NaN    NaN      NaN          NaN             NaN  \n",
      "30501           NaN        NaN    NaN      NaN          NaN             NaN  \n",
      "30502           NaN        NaN    NaN      NaN          NaN             NaN  \n",
      "30503           NaN        NaN    NaN      NaN          NaN             NaN  \n",
      "30504           NaN        NaN    NaN      NaN          NaN             NaN  \n",
      "\n",
      "[30505 rows x 17 columns]\n"
     ]
    }
   ],
   "source": [
    "complete_data_df = pd.DataFrame(complete_data)\n",
    "print(complete_data_df)\n",
    "complete_data_df.to_csv('complete_data.csv')\n"
   ]
  },
  {
   "cell_type": "markdown",
   "metadata": {},
   "source": [
    "## Exportação dos dados para um Excel"
   ]
  },
  {
   "cell_type": "code",
   "execution_count": 106,
   "metadata": {},
   "outputs": [],
   "source": [
    "complete_data_df.to_excel('complete_data.xlsx')"
   ]
  }
 ],
 "metadata": {
  "kernelspec": {
   "display_name": "Python 3",
   "language": "python",
   "name": "python3"
  },
  "language_info": {
   "codemirror_mode": {
    "name": "ipython",
    "version": 3
   },
   "file_extension": ".py",
   "mimetype": "text/x-python",
   "name": "python",
   "nbconvert_exporter": "python",
   "pygments_lexer": "ipython3",
   "version": "3.12.0"
  }
 },
 "nbformat": 4,
 "nbformat_minor": 2
}
